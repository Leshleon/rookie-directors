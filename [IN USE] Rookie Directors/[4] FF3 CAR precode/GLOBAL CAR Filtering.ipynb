{
 "cells": [
  {
   "cell_type": "code",
   "execution_count": 1,
   "id": "a1ea697e-ef74-4b6c-99af-25be6b47d240",
   "metadata": {},
   "outputs": [],
   "source": [
    "import pandas_datareader.data as web #to collect data\n",
    "import datetime as dt #to specify start and end dates\n",
    "\n",
    "# import yfinance as yf\n",
    "\n",
    "import eventstudy as es\n",
    "import numpy as np\n",
    "import matplotlib.pyplot as plt\n",
    "%matplotlib inline\n",
    "import seaborn as sns\n",
    "\n",
    "\n",
    "import pandas as pd\n",
    "\n",
    "import statsmodels.api as sm\n",
    "import statsmodels.formula.api as smf\n",
    "from statsmodels.regression.rolling import RollingOLS\n",
    "\n",
    "from patsy import dmatrices\n",
    "from tqdm.notebook import tqdm\n",
    "tqdm.pandas()"
   ]
  },
  {
   "cell_type": "code",
   "execution_count": null,
   "id": "2940f3d0-6d2b-4499-897b-88976f11ea1b",
   "metadata": {},
   "outputs": [],
   "source": []
  },
  {
   "cell_type": "code",
   "execution_count": 2,
   "id": "6c89b7d8-cf12-4586-94db-9835c10b3536",
   "metadata": {},
   "outputs": [],
   "source": [
    "import_folder_path = r\"..\\..\\[IN USE] Rookie Directors\\[1] Director Level\\director_wrangle_output\"\n",
    "output_folder_path = \"car_filtering\"\n",
    "supporting_folder_path = \"supporting_datafiles\""
   ]
  },
  {
   "cell_type": "markdown",
   "id": "031014a4-d0df-4331-a597-9b4d28b4c1ba",
   "metadata": {},
   "source": [
    "## Data reading and melting"
   ]
  },
  {
   "cell_type": "code",
   "execution_count": 3,
   "id": "7a6cf11d-e4d1-4799-825b-7472e663b427",
   "metadata": {},
   "outputs": [],
   "source": [
    "data = pd.read_csv(rf\"{supporting_folder_path}\\Adjusted Clos_collated.csv\").drop(\"Unnamed: 0\", axis = 1)"
   ]
  },
  {
   "cell_type": "code",
   "execution_count": 4,
   "id": "4b0bbca8-0628-4bb0-b271-f2474cb98565",
   "metadata": {},
   "outputs": [],
   "source": [
    "dataLong = data.melt( id_vars = \"AsOnDate\", value_vars = data.columns[1:3908]).rename({\"value\":\"ACP\", \"variable\":\"CompanyName\"}, axis = 1).drop_duplicates().reset_index(drop = True)\n",
    "dataLong[\"AsOnDate\"] = pd.to_datetime(dataLong[\"AsOnDate\"], format = \"%Y-%m-%d\")\n",
    "dataLong = dataLong.loc[~( (dataLong.duplicated(subset = [\"CompanyName\", \"AsOnDate\"], keep = False)) & (dataLong[\"ACP\"].isnull())) ]\n",
    "dataLong = dataLong.loc[~ dataLong.duplicated(subset = [\"CompanyName\", \"AsOnDate\"], keep = False)].drop_duplicates().reset_index(drop = True)"
   ]
  },
  {
   "cell_type": "code",
   "execution_count": null,
   "id": "4648dcd8-063e-4991-95eb-7c47836e74d0",
   "metadata": {},
   "outputs": [],
   "source": []
  },
  {
   "cell_type": "markdown",
   "id": "dae7d724-76fc-49d2-a9ed-a88180f81e2b",
   "metadata": {},
   "source": [
    "## Data Cleaning"
   ]
  },
  {
   "cell_type": "markdown",
   "id": "a3bd0fa8-ae74-4a97-875f-2bffc1318263",
   "metadata": {},
   "source": [
    "## Data Snipping from either ends"
   ]
  },
  {
   "cell_type": "code",
   "execution_count": 5,
   "id": "cf3901e4-4f2a-4cd2-9729-95dc13ad13a2",
   "metadata": {},
   "outputs": [],
   "source": [
    "def dataSnip(frame):\n",
    "    \n",
    "    first_valid_idx = frame[\"ACP\"].first_valid_index()\n",
    "    \n",
    "    if first_valid_idx is not None:\n",
    "        frame = frame.loc[first_valid_idx:]\n",
    "        \n",
    "    else:\n",
    "        frame = frame.iloc[0:0]\n",
    "\n",
    "    last_valid_idx = frame[\"ACP\"].last_valid_index()\n",
    "    \n",
    "    if last_valid_idx is not None:\n",
    "        frame = frame.loc[:last_valid_idx]\n",
    "        \n",
    "    else:\n",
    "        frame = frame\n",
    "        \n",
    "    return frame"
   ]
  },
  {
   "cell_type": "code",
   "execution_count": 6,
   "id": "b386381e-2096-4564-8aff-00ffd1ff6bec",
   "metadata": {},
   "outputs": [
    {
     "data": {
      "application/vnd.jupyter.widget-view+json": {
       "model_id": "0abb486ac9e7450b8d883a9f2e160822",
       "version_major": 2,
       "version_minor": 0
      },
      "text/plain": [
       "  0%|          | 0/3907 [00:00<?, ?it/s]"
      ]
     },
     "metadata": {},
     "output_type": "display_data"
    }
   ],
   "source": [
    "dataLong2 = dataLong.groupby(by=\"CompanyName\").progress_apply(dataSnip).reset_index(drop=True)"
   ]
  },
  {
   "cell_type": "code",
   "execution_count": null,
   "id": "1e810991-cb5b-47bc-81ff-3cca48193431",
   "metadata": {},
   "outputs": [],
   "source": []
  },
  {
   "cell_type": "markdown",
   "id": "9aa3bac2-16bf-484b-9540-ce1d4523e38a",
   "metadata": {},
   "source": [
    "## Missing Data dummies"
   ]
  },
  {
   "cell_type": "markdown",
   "id": "2d7805c9-b2ab-48f3-9f6a-601d0967b4b2",
   "metadata": {},
   "source": [
    "### Missing acp Data dummy"
   ]
  },
  {
   "cell_type": "code",
   "execution_count": 7,
   "id": "ef024425-3d8a-4c65-aff5-f6884e699b36",
   "metadata": {},
   "outputs": [],
   "source": [
    "dataLong2[\"missing_acp_dummy\"] = pd.isnull(dataLong2[\"ACP\"]).astype(int)"
   ]
  },
  {
   "cell_type": "code",
   "execution_count": 8,
   "id": "cd4c398c-051e-476b-be9b-bbc36d8589a0",
   "metadata": {},
   "outputs": [
    {
     "data": {
      "text/plain": [
       "missing_acp_dummy\n",
       "0    12485135\n",
       "1      979958\n",
       "Name: count, dtype: int64"
      ]
     },
     "execution_count": 8,
     "metadata": {},
     "output_type": "execute_result"
    }
   ],
   "source": [
    "dataLong2.missing_acp_dummy.value_counts()"
   ]
  },
  {
   "cell_type": "code",
   "execution_count": 9,
   "id": "ff0dbd34-e7f0-48f5-951a-3d13f2e0606e",
   "metadata": {},
   "outputs": [
    {
     "data": {
      "text/html": [
       "<div>\n",
       "<style scoped>\n",
       "    .dataframe tbody tr th:only-of-type {\n",
       "        vertical-align: middle;\n",
       "    }\n",
       "\n",
       "    .dataframe tbody tr th {\n",
       "        vertical-align: top;\n",
       "    }\n",
       "\n",
       "    .dataframe thead th {\n",
       "        text-align: right;\n",
       "    }\n",
       "</style>\n",
       "<table border=\"1\" class=\"dataframe\">\n",
       "  <thead>\n",
       "    <tr style=\"text-align: right;\">\n",
       "      <th></th>\n",
       "      <th>AsOnDate</th>\n",
       "      <th>CompanyName</th>\n",
       "      <th>ACP</th>\n",
       "      <th>missing_acp_dummy</th>\n",
       "    </tr>\n",
       "  </thead>\n",
       "  <tbody>\n",
       "    <tr>\n",
       "      <th>0</th>\n",
       "      <td>2008-10-06</td>\n",
       "      <td>20 Microns Ltd.</td>\n",
       "      <td>16.82</td>\n",
       "      <td>0</td>\n",
       "    </tr>\n",
       "    <tr>\n",
       "      <th>1</th>\n",
       "      <td>2008-10-07</td>\n",
       "      <td>20 Microns Ltd.</td>\n",
       "      <td>15.05</td>\n",
       "      <td>0</td>\n",
       "    </tr>\n",
       "    <tr>\n",
       "      <th>2</th>\n",
       "      <td>2008-10-08</td>\n",
       "      <td>20 Microns Ltd.</td>\n",
       "      <td>13.25</td>\n",
       "      <td>0</td>\n",
       "    </tr>\n",
       "    <tr>\n",
       "      <th>3</th>\n",
       "      <td>2008-10-10</td>\n",
       "      <td>20 Microns Ltd.</td>\n",
       "      <td>11.60</td>\n",
       "      <td>0</td>\n",
       "    </tr>\n",
       "    <tr>\n",
       "      <th>4</th>\n",
       "      <td>2008-10-13</td>\n",
       "      <td>20 Microns Ltd.</td>\n",
       "      <td>12.32</td>\n",
       "      <td>0</td>\n",
       "    </tr>\n",
       "    <tr>\n",
       "      <th>...</th>\n",
       "      <td>...</td>\n",
       "      <td>...</td>\n",
       "      <td>...</td>\n",
       "      <td>...</td>\n",
       "    </tr>\n",
       "    <tr>\n",
       "      <th>13465088</th>\n",
       "      <td>2024-03-21</td>\n",
       "      <td>Zylog Systems Ltd.</td>\n",
       "      <td>0.35</td>\n",
       "      <td>0</td>\n",
       "    </tr>\n",
       "    <tr>\n",
       "      <th>13465089</th>\n",
       "      <td>2024-03-22</td>\n",
       "      <td>Zylog Systems Ltd.</td>\n",
       "      <td>0.35</td>\n",
       "      <td>0</td>\n",
       "    </tr>\n",
       "    <tr>\n",
       "      <th>13465090</th>\n",
       "      <td>2024-03-26</td>\n",
       "      <td>Zylog Systems Ltd.</td>\n",
       "      <td>0.35</td>\n",
       "      <td>0</td>\n",
       "    </tr>\n",
       "    <tr>\n",
       "      <th>13465091</th>\n",
       "      <td>2024-03-27</td>\n",
       "      <td>Zylog Systems Ltd.</td>\n",
       "      <td>0.35</td>\n",
       "      <td>0</td>\n",
       "    </tr>\n",
       "    <tr>\n",
       "      <th>13465092</th>\n",
       "      <td>2024-03-28</td>\n",
       "      <td>Zylog Systems Ltd.</td>\n",
       "      <td>0.35</td>\n",
       "      <td>0</td>\n",
       "    </tr>\n",
       "  </tbody>\n",
       "</table>\n",
       "<p>13465093 rows × 4 columns</p>\n",
       "</div>"
      ],
      "text/plain": [
       "           AsOnDate         CompanyName    ACP  missing_acp_dummy\n",
       "0        2008-10-06     20 Microns Ltd.  16.82                  0\n",
       "1        2008-10-07     20 Microns Ltd.  15.05                  0\n",
       "2        2008-10-08     20 Microns Ltd.  13.25                  0\n",
       "3        2008-10-10     20 Microns Ltd.  11.60                  0\n",
       "4        2008-10-13     20 Microns Ltd.  12.32                  0\n",
       "...             ...                 ...    ...                ...\n",
       "13465088 2024-03-21  Zylog Systems Ltd.   0.35                  0\n",
       "13465089 2024-03-22  Zylog Systems Ltd.   0.35                  0\n",
       "13465090 2024-03-26  Zylog Systems Ltd.   0.35                  0\n",
       "13465091 2024-03-27  Zylog Systems Ltd.   0.35                  0\n",
       "13465092 2024-03-28  Zylog Systems Ltd.   0.35                  0\n",
       "\n",
       "[13465093 rows x 4 columns]"
      ]
     },
     "execution_count": 9,
     "metadata": {},
     "output_type": "execute_result"
    }
   ],
   "source": [
    "dataLong2"
   ]
  },
  {
   "cell_type": "markdown",
   "id": "594c8c62-5587-40dd-a55d-8c6d7c7a630b",
   "metadata": {},
   "source": [
    "### Missing 50% trading days dummy at estimation period"
   ]
  },
  {
   "cell_type": "code",
   "execution_count": 10,
   "id": "192e38ce-9442-45df-b17a-24e0025d904c",
   "metadata": {},
   "outputs": [],
   "source": [
    "def sufficient_trading_days_dummy(frame: pd.DataFrame, estimation_period: int) -> pd.DataFrame:\n",
    "    frame[\"na_trading_days\"] = frame[\"missing_acp_dummy\"].rolling(estimation_period,\n",
    "                                                                  center = False).sum()\n",
    "    frame[\"na_trading_days\"] = frame[\"na_trading_days\"].shift(31)\n",
    "    frame[\"insufficient_data_dummy\"] = np.where(\n",
    "        (frame[\"na_trading_days\"] < (0.5*estimation_period)) | pd.isnull(frame[\"na_trading_days\"]),\n",
    "        0, 1)\n",
    "    \n",
    "    return frame.loc[ frame[\"insufficient_data_dummy\"] == 1]"
   ]
  },
  {
   "cell_type": "code",
   "execution_count": 11,
   "id": "e704f6ac-71ae-4304-9509-a7259d2dcba4",
   "metadata": {},
   "outputs": [
    {
     "data": {
      "application/vnd.jupyter.widget-view+json": {
       "model_id": "cb362d3eb7cf4ea1b560c342f0151f86",
       "version_major": 2,
       "version_minor": 0
      },
      "text/plain": [
       "  0%|          | 0/3721 [00:00<?, ?it/s]"
      ]
     },
     "metadata": {},
     "output_type": "display_data"
    },
    {
     "data": {
      "application/vnd.jupyter.widget-view+json": {
       "model_id": "b1c6259642bb4278a3602b527b6564a4",
       "version_major": 2,
       "version_minor": 0
      },
      "text/plain": [
       "  0%|          | 0/3721 [00:00<?, ?it/s]"
      ]
     },
     "metadata": {},
     "output_type": "display_data"
    },
    {
     "data": {
      "application/vnd.jupyter.widget-view+json": {
       "model_id": "889a644d4a9c4972a0167ff35ab755dd",
       "version_major": 2,
       "version_minor": 0
      },
      "text/plain": [
       "  0%|          | 0/3721 [00:00<?, ?it/s]"
      ]
     },
     "metadata": {},
     "output_type": "display_data"
    },
    {
     "data": {
      "application/vnd.jupyter.widget-view+json": {
       "model_id": "fa232ce579ca43c0bef7671c6bd62dc3",
       "version_major": 2,
       "version_minor": 0
      },
      "text/plain": [
       "  0%|          | 0/3721 [00:00<?, ?it/s]"
      ]
     },
     "metadata": {},
     "output_type": "display_data"
    }
   ],
   "source": [
    "CARs = [120, 150, 180, 210]\n",
    "\n",
    "insuffDataLong = []\n",
    "for CAR in CARs:\n",
    "    result = dataLong2.groupby(\"CompanyName\").progress_apply(\n",
    "        sufficient_trading_days_dummy, estimation_period = CAR)\n",
    "    insuffDataLong.append(result.reset_index(drop = True))"
   ]
  },
  {
   "cell_type": "code",
   "execution_count": 12,
   "id": "3e9c793c-66d2-4100-bea5-b0cbbfee3f2c",
   "metadata": {},
   "outputs": [
    {
     "data": {
      "text/html": [
       "<div>\n",
       "<style scoped>\n",
       "    .dataframe tbody tr th:only-of-type {\n",
       "        vertical-align: middle;\n",
       "    }\n",
       "\n",
       "    .dataframe tbody tr th {\n",
       "        vertical-align: top;\n",
       "    }\n",
       "\n",
       "    .dataframe thead th {\n",
       "        text-align: right;\n",
       "    }\n",
       "</style>\n",
       "<table border=\"1\" class=\"dataframe\">\n",
       "  <thead>\n",
       "    <tr style=\"text-align: right;\">\n",
       "      <th></th>\n",
       "      <th>AsOnDate</th>\n",
       "      <th>CompanyName</th>\n",
       "      <th>ACP</th>\n",
       "      <th>missing_acp_dummy</th>\n",
       "      <th>na_trading_days</th>\n",
       "      <th>insufficient_data_dummy</th>\n",
       "    </tr>\n",
       "  </thead>\n",
       "  <tbody>\n",
       "    <tr>\n",
       "      <th>0</th>\n",
       "      <td>2005-10-13</td>\n",
       "      <td>Aarti Pharmalabs Ltd.</td>\n",
       "      <td>NaN</td>\n",
       "      <td>1</td>\n",
       "      <td>105.0</td>\n",
       "      <td>1</td>\n",
       "    </tr>\n",
       "    <tr>\n",
       "      <th>1</th>\n",
       "      <td>2005-10-14</td>\n",
       "      <td>Aarti Pharmalabs Ltd.</td>\n",
       "      <td>NaN</td>\n",
       "      <td>1</td>\n",
       "      <td>106.0</td>\n",
       "      <td>1</td>\n",
       "    </tr>\n",
       "    <tr>\n",
       "      <th>2</th>\n",
       "      <td>2005-10-17</td>\n",
       "      <td>Aarti Pharmalabs Ltd.</td>\n",
       "      <td>NaN</td>\n",
       "      <td>1</td>\n",
       "      <td>107.0</td>\n",
       "      <td>1</td>\n",
       "    </tr>\n",
       "    <tr>\n",
       "      <th>3</th>\n",
       "      <td>2005-10-18</td>\n",
       "      <td>Aarti Pharmalabs Ltd.</td>\n",
       "      <td>NaN</td>\n",
       "      <td>1</td>\n",
       "      <td>108.0</td>\n",
       "      <td>1</td>\n",
       "    </tr>\n",
       "    <tr>\n",
       "      <th>4</th>\n",
       "      <td>2005-10-19</td>\n",
       "      <td>Aarti Pharmalabs Ltd.</td>\n",
       "      <td>NaN</td>\n",
       "      <td>1</td>\n",
       "      <td>109.0</td>\n",
       "      <td>1</td>\n",
       "    </tr>\n",
       "    <tr>\n",
       "      <th>...</th>\n",
       "      <td>...</td>\n",
       "      <td>...</td>\n",
       "      <td>...</td>\n",
       "      <td>...</td>\n",
       "      <td>...</td>\n",
       "      <td>...</td>\n",
       "    </tr>\n",
       "    <tr>\n",
       "      <th>972446</th>\n",
       "      <td>2010-05-27</td>\n",
       "      <td>Zydus Wellness Ltd.</td>\n",
       "      <td>484.75</td>\n",
       "      <td>0</td>\n",
       "      <td>109.0</td>\n",
       "      <td>1</td>\n",
       "    </tr>\n",
       "    <tr>\n",
       "      <th>972447</th>\n",
       "      <td>2010-05-28</td>\n",
       "      <td>Zydus Wellness Ltd.</td>\n",
       "      <td>485.85</td>\n",
       "      <td>0</td>\n",
       "      <td>108.0</td>\n",
       "      <td>1</td>\n",
       "    </tr>\n",
       "    <tr>\n",
       "      <th>972448</th>\n",
       "      <td>2010-05-31</td>\n",
       "      <td>Zydus Wellness Ltd.</td>\n",
       "      <td>484.60</td>\n",
       "      <td>0</td>\n",
       "      <td>107.0</td>\n",
       "      <td>1</td>\n",
       "    </tr>\n",
       "    <tr>\n",
       "      <th>972449</th>\n",
       "      <td>2010-06-01</td>\n",
       "      <td>Zydus Wellness Ltd.</td>\n",
       "      <td>472.60</td>\n",
       "      <td>0</td>\n",
       "      <td>106.0</td>\n",
       "      <td>1</td>\n",
       "    </tr>\n",
       "    <tr>\n",
       "      <th>972450</th>\n",
       "      <td>2010-06-02</td>\n",
       "      <td>Zydus Wellness Ltd.</td>\n",
       "      <td>468.75</td>\n",
       "      <td>0</td>\n",
       "      <td>105.0</td>\n",
       "      <td>1</td>\n",
       "    </tr>\n",
       "  </tbody>\n",
       "</table>\n",
       "<p>972451 rows × 6 columns</p>\n",
       "</div>"
      ],
      "text/plain": [
       "         AsOnDate            CompanyName     ACP  missing_acp_dummy  \\\n",
       "0      2005-10-13  Aarti Pharmalabs Ltd.     NaN                  1   \n",
       "1      2005-10-14  Aarti Pharmalabs Ltd.     NaN                  1   \n",
       "2      2005-10-17  Aarti Pharmalabs Ltd.     NaN                  1   \n",
       "3      2005-10-18  Aarti Pharmalabs Ltd.     NaN                  1   \n",
       "4      2005-10-19  Aarti Pharmalabs Ltd.     NaN                  1   \n",
       "...           ...                    ...     ...                ...   \n",
       "972446 2010-05-27    Zydus Wellness Ltd.  484.75                  0   \n",
       "972447 2010-05-28    Zydus Wellness Ltd.  485.85                  0   \n",
       "972448 2010-05-31    Zydus Wellness Ltd.  484.60                  0   \n",
       "972449 2010-06-01    Zydus Wellness Ltd.  472.60                  0   \n",
       "972450 2010-06-02    Zydus Wellness Ltd.  468.75                  0   \n",
       "\n",
       "        na_trading_days  insufficient_data_dummy  \n",
       "0                 105.0                        1  \n",
       "1                 106.0                        1  \n",
       "2                 107.0                        1  \n",
       "3                 108.0                        1  \n",
       "4                 109.0                        1  \n",
       "...                 ...                      ...  \n",
       "972446            109.0                        1  \n",
       "972447            108.0                        1  \n",
       "972448            107.0                        1  \n",
       "972449            106.0                        1  \n",
       "972450            105.0                        1  \n",
       "\n",
       "[972451 rows x 6 columns]"
      ]
     },
     "execution_count": 12,
     "metadata": {},
     "output_type": "execute_result"
    }
   ],
   "source": [
    "insuffDataLong[3]"
   ]
  },
  {
   "cell_type": "code",
   "execution_count": 14,
   "id": "1c2f0b2c-b0c3-40c1-b1e6-0ac5fa257635",
   "metadata": {},
   "outputs": [],
   "source": [
    "output_col = [\"AsOnDate\", \"CompanyName\", \"insufficient_data_dummy\", \"na_trading_days\"]\n",
    "\n",
    "for i,CAR in enumerate(CARs):\n",
    "        insuffDataLong[i][output_col].to_pickle(rf\"{output_folder_path}\\Insufficient Data for {CAR}CAR.pkl\")"
   ]
  },
  {
   "cell_type": "code",
   "execution_count": null,
   "id": "493e261a-466b-4f42-8ebb-2a611a285517",
   "metadata": {},
   "outputs": [],
   "source": []
  },
  {
   "cell_type": "code",
   "execution_count": null,
   "id": "779819ba-5f41-4d1f-bb58-b7a3d8228d4d",
   "metadata": {},
   "outputs": [],
   "source": [
    "insuffDataLong[3].na_trading_days.max()"
   ]
  },
  {
   "cell_type": "code",
   "execution_count": null,
   "id": "f379125f-2dab-42f1-866a-30d3a0839c26",
   "metadata": {},
   "outputs": [],
   "source": []
  },
  {
   "cell_type": "code",
   "execution_count": null,
   "id": "e15b0b98-0a41-477b-b145-b0d8dc41a1fc",
   "metadata": {},
   "outputs": [],
   "source": []
  }
 ],
 "metadata": {
  "kernelspec": {
   "display_name": "Python 3 (ipykernel)",
   "language": "python",
   "name": "python3"
  },
  "language_info": {
   "codemirror_mode": {
    "name": "ipython",
    "version": 3
   },
   "file_extension": ".py",
   "mimetype": "text/x-python",
   "name": "python",
   "nbconvert_exporter": "python",
   "pygments_lexer": "ipython3",
   "version": "3.11.7"
  }
 },
 "nbformat": 4,
 "nbformat_minor": 5
}
