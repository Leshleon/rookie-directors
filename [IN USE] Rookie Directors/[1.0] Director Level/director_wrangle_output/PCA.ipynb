{
 "cells": [
  {
   "cell_type": "code",
   "execution_count": 1,
   "id": "23dd057f",
   "metadata": {},
   "outputs": [],
   "source": [
    "import pandas as pd\n",
    "df = pd.read_pickle(\"Main_Director_COMPLETE.pkl\")"
   ]
  },
  {
   "cell_type": "code",
   "execution_count": 2,
   "id": "1f837775",
   "metadata": {},
   "outputs": [
    {
     "ename": "KeyError",
     "evalue": "\"['combined_leadership_outside_board'] not in index\"",
     "output_type": "error",
     "traceback": [
      "\u001b[1;31m---------------------------------------------------------------------------\u001b[0m",
      "\u001b[1;31mKeyError\u001b[0m                                  Traceback (most recent call last)",
      "Cell \u001b[1;32mIn[2], line 14\u001b[0m\n\u001b[0;32m      4\u001b[0m \u001b[38;5;28;01mimport\u001b[39;00m \u001b[38;5;21;01mseaborn\u001b[39;00m \u001b[38;5;28;01mas\u001b[39;00m \u001b[38;5;21;01msns\u001b[39;00m\n\u001b[0;32m      5\u001b[0m skillset_cols \u001b[38;5;241m=\u001b[39m [\n\u001b[0;32m      6\u001b[0m     \u001b[38;5;124m'\u001b[39m\u001b[38;5;124mAcademic\u001b[39m\u001b[38;5;124m'\u001b[39m,\u001b[38;5;124m'\u001b[39m\u001b[38;5;124mcombined_manufacturing_supply_chain\u001b[39m\u001b[38;5;124m'\u001b[39m,\n\u001b[0;32m      7\u001b[0m     \u001b[38;5;124m'\u001b[39m\u001b[38;5;124mcombined_sustainability\u001b[39m\u001b[38;5;124m'\u001b[39m, \u001b[38;5;124m'\u001b[39m\u001b[38;5;124mcombined_entrepreneurial\u001b[39m\u001b[38;5;124m'\u001b[39m, \u001b[38;5;124m'\u001b[39m\u001b[38;5;124mcombined_compensation\u001b[39m\u001b[38;5;124m'\u001b[39m,\n\u001b[1;32m   (...)\u001b[0m\n\u001b[0;32m     12\u001b[0m     \u001b[38;5;124m'\u001b[39m\u001b[38;5;124mcombined_hr\u001b[39m\u001b[38;5;124m'\u001b[39m, \u001b[38;5;124m'\u001b[39m\u001b[38;5;124mcombined_technology\u001b[39m\u001b[38;5;124m'\u001b[39m, \u001b[38;5;124m'\u001b[39m\u001b[38;5;124mcombined_finance_accounting\u001b[39m\u001b[38;5;124m'\u001b[39m,\u001b[38;5;124m'\u001b[39m\u001b[38;5;124mCompany Business\u001b[39m\u001b[38;5;124m'\u001b[39m\n\u001b[0;32m     13\u001b[0m ]\n\u001b[1;32m---> 14\u001b[0m X \u001b[38;5;241m=\u001b[39m df[skillset_cols]\u001b[38;5;241m.\u001b[39mcopy()\n\u001b[0;32m     15\u001b[0m scaler \u001b[38;5;241m=\u001b[39m StandardScaler()\n\u001b[0;32m     16\u001b[0m X_scaled \u001b[38;5;241m=\u001b[39m scaler\u001b[38;5;241m.\u001b[39mfit_transform(X)\n",
      "File \u001b[1;32m~\\anaconda3\\Lib\\site-packages\\pandas\\core\\frame.py:3899\u001b[0m, in \u001b[0;36mDataFrame.__getitem__\u001b[1;34m(self, key)\u001b[0m\n\u001b[0;32m   3897\u001b[0m     \u001b[38;5;28;01mif\u001b[39;00m is_iterator(key):\n\u001b[0;32m   3898\u001b[0m         key \u001b[38;5;241m=\u001b[39m \u001b[38;5;28mlist\u001b[39m(key)\n\u001b[1;32m-> 3899\u001b[0m     indexer \u001b[38;5;241m=\u001b[39m \u001b[38;5;28mself\u001b[39m\u001b[38;5;241m.\u001b[39mcolumns\u001b[38;5;241m.\u001b[39m_get_indexer_strict(key, \u001b[38;5;124m\"\u001b[39m\u001b[38;5;124mcolumns\u001b[39m\u001b[38;5;124m\"\u001b[39m)[\u001b[38;5;241m1\u001b[39m]\n\u001b[0;32m   3901\u001b[0m \u001b[38;5;66;03m# take() does not accept boolean indexers\u001b[39;00m\n\u001b[0;32m   3902\u001b[0m \u001b[38;5;28;01mif\u001b[39;00m \u001b[38;5;28mgetattr\u001b[39m(indexer, \u001b[38;5;124m\"\u001b[39m\u001b[38;5;124mdtype\u001b[39m\u001b[38;5;124m\"\u001b[39m, \u001b[38;5;28;01mNone\u001b[39;00m) \u001b[38;5;241m==\u001b[39m \u001b[38;5;28mbool\u001b[39m:\n",
      "File \u001b[1;32m~\\anaconda3\\Lib\\site-packages\\pandas\\core\\indexes\\base.py:6115\u001b[0m, in \u001b[0;36mIndex._get_indexer_strict\u001b[1;34m(self, key, axis_name)\u001b[0m\n\u001b[0;32m   6112\u001b[0m \u001b[38;5;28;01melse\u001b[39;00m:\n\u001b[0;32m   6113\u001b[0m     keyarr, indexer, new_indexer \u001b[38;5;241m=\u001b[39m \u001b[38;5;28mself\u001b[39m\u001b[38;5;241m.\u001b[39m_reindex_non_unique(keyarr)\n\u001b[1;32m-> 6115\u001b[0m \u001b[38;5;28mself\u001b[39m\u001b[38;5;241m.\u001b[39m_raise_if_missing(keyarr, indexer, axis_name)\n\u001b[0;32m   6117\u001b[0m keyarr \u001b[38;5;241m=\u001b[39m \u001b[38;5;28mself\u001b[39m\u001b[38;5;241m.\u001b[39mtake(indexer)\n\u001b[0;32m   6118\u001b[0m \u001b[38;5;28;01mif\u001b[39;00m \u001b[38;5;28misinstance\u001b[39m(key, Index):\n\u001b[0;32m   6119\u001b[0m     \u001b[38;5;66;03m# GH 42790 - Preserve name from an Index\u001b[39;00m\n",
      "File \u001b[1;32m~\\anaconda3\\Lib\\site-packages\\pandas\\core\\indexes\\base.py:6179\u001b[0m, in \u001b[0;36mIndex._raise_if_missing\u001b[1;34m(self, key, indexer, axis_name)\u001b[0m\n\u001b[0;32m   6176\u001b[0m     \u001b[38;5;28;01mraise\u001b[39;00m \u001b[38;5;167;01mKeyError\u001b[39;00m(\u001b[38;5;124mf\u001b[39m\u001b[38;5;124m\"\u001b[39m\u001b[38;5;124mNone of [\u001b[39m\u001b[38;5;132;01m{\u001b[39;00mkey\u001b[38;5;132;01m}\u001b[39;00m\u001b[38;5;124m] are in the [\u001b[39m\u001b[38;5;132;01m{\u001b[39;00maxis_name\u001b[38;5;132;01m}\u001b[39;00m\u001b[38;5;124m]\u001b[39m\u001b[38;5;124m\"\u001b[39m)\n\u001b[0;32m   6178\u001b[0m not_found \u001b[38;5;241m=\u001b[39m \u001b[38;5;28mlist\u001b[39m(ensure_index(key)[missing_mask\u001b[38;5;241m.\u001b[39mnonzero()[\u001b[38;5;241m0\u001b[39m]]\u001b[38;5;241m.\u001b[39munique())\n\u001b[1;32m-> 6179\u001b[0m \u001b[38;5;28;01mraise\u001b[39;00m \u001b[38;5;167;01mKeyError\u001b[39;00m(\u001b[38;5;124mf\u001b[39m\u001b[38;5;124m\"\u001b[39m\u001b[38;5;132;01m{\u001b[39;00mnot_found\u001b[38;5;132;01m}\u001b[39;00m\u001b[38;5;124m not in index\u001b[39m\u001b[38;5;124m\"\u001b[39m)\n",
      "\u001b[1;31mKeyError\u001b[0m: \"['combined_leadership_outside_board'] not in index\""
     ]
    }
   ],
   "source": [
    "from sklearn.decomposition import PCA\n",
    "from sklearn.preprocessing import StandardScaler\n",
    "import matplotlib.pyplot as plt\n",
    "import seaborn as sns\n",
    "skillset_cols = [\n",
    "    'Academic','combined_manufacturing_supply_chain',\n",
    "    'combined_sustainability', 'combined_entrepreneurial', 'combined_compensation',\n",
    "    'combined_governance', 'combined_government_policy', 'combined_international',\n",
    "    'combined_legal','combined_leadership_outside_board',\n",
    "    'combined_marketing', 'combined_risk_management', 'combined_scientific',\n",
    "    'combined_strategic_planning', 'combined_conglomerate_experience',\n",
    "    'combined_hr', 'combined_technology', 'combined_finance_accounting','Company Business'\n",
    "]\n",
    "X = df[skillset_cols].copy()\n",
    "scaler = StandardScaler()\n",
    "X_scaled = scaler.fit_transform(X)\n",
    "\n",
    "pca_full = PCA()\n",
    "X_pca_full = pca_full.fit_transform(X_scaled)\n",
    "\n",
    "plt.figure(figsize=(10, 5))\n",
    "sns.lineplot(\n",
    "    x=range(1, len(pca_full.explained_variance_ratio_) + 1),\n",
    "    y=pca_full.explained_variance_ratio_,\n",
    "    marker=\"o\"\n",
    ")\n",
    "plt.title(\"Scree Plot - Explained Variance by Principal Component\")\n",
    "plt.xlabel(\"Principal Component\")\n",
    "plt.ylabel(\"Proportion of Variance Explained\")\n",
    "plt.xticks(range(1, len(pca_full.explained_variance_ratio_) + 1))\n",
    "plt.grid(True)\n",
    "plt.tight_layout()\n",
    "plt.show()\n",
    "\n",
    "pca = PCA(n_components=1)\n",
    "principal_component = pca.fit_transform(X_scaled)\n",
    "\n",
    "df['SkillsetIndex'] = principal_component[:, 0]\n",
    "df['SkillsetIndex'] = (df['SkillsetIndex'] - df['SkillsetIndex'].mean()) / df['SkillsetIndex'].std()\n",
    "\n",
    "median_value = df['SkillsetIndex'].median()\n",
    "df['SkillsetGeneralistDummy'] = (df['SkillsetIndex'] > median_value).astype(int)\n",
    "\n",
    "loadings = pd.DataFrame(\n",
    "    pca_full.components_.T,\n",
    "    columns=[f'PC{i+1}' for i in range(len(skillset_cols))],\n",
    "    index=skillset_cols\n",
    ")"
   ]
  },
  {
   "cell_type": "code",
   "execution_count": null,
   "id": "58197c36",
   "metadata": {},
   "outputs": [],
   "source": [
    "pc1_loadings = loadings[['PC1']].copy()\n",
    "pc1_loadings['Skillset Feature'] = pc1_loadings.index\n",
    "pc1_sorted = pc1_loadings.sort_values('PC1', ascending=False)\n"
   ]
  },
  {
   "cell_type": "code",
   "execution_count": null,
   "id": "8d7bb51f",
   "metadata": {},
   "outputs": [],
   "source": [
    "plt.figure(figsize=(12, 6))\n",
    "sns.barplot(x='PC1', y='Skillset Feature', data=pc1_sorted, palette='coolwarm')\n",
    "plt.title('PC1 Feature Loadings', fontsize=14)\n",
    "plt.xlabel('Loading Value')\n",
    "plt.ylabel('Skillset Feature')\n",
    "plt.axvline(0, color='black', linewidth=0.8)\n",
    "plt.tight_layout()\n",
    "plt.show()\n"
   ]
  },
  {
   "cell_type": "code",
   "execution_count": null,
   "id": "e0759301",
   "metadata": {},
   "outputs": [],
   "source": [
    "eigenvalue_pc1 = pca_full.explained_variance_[0]\n",
    "explained_variance_ratio_pc1 = pca_full.explained_variance_ratio_[0]\n",
    "cumulative_explained_variance_pc1 = pca_full.explained_variance_ratio_.cumsum()[0]\n",
    "\n",
    "print(f\"Eigenvalue for PC1: {eigenvalue_pc1:.3f}\")\n",
    "print(f\"Explained Variance Ratio for PC1: {explained_variance_ratio_pc1 * 100:.2f}%\")\n",
    "print(f\"Cumulative Explained Variance Ratio up to PC1: {cumulative_explained_variance_pc1 * 100:.2f}%\")\n",
    "\n",
    "loadings_pc1 = loadings['PC1'].sort_values(key=lambda x: abs(x), ascending=False)\n",
    "print(\"\\nTop PC1 Loadings:\")\n",
    "print(loadings_pc1.round(3).head(21))\n"
   ]
  },
  {
   "cell_type": "code",
   "execution_count": null,
   "id": "b42e2d07",
   "metadata": {},
   "outputs": [],
   "source": [
    "eigenvalues_df = pd.DataFrame(\n",
    "    {'Principal Component': [f'PC{i+1}' for i in range(len(skillset_cols))],\n",
    "     'Eigenvalue': pca_full.explained_variance_}\n",
    ")\n",
    "\n",
    "explained_variance_ratio_df = pd.DataFrame(\n",
    "    {'Principal Component': [f'PC{i+1}' for i in range(len(skillset_cols))],\n",
    "     'Explained Variance Ratio (%)': pca_full.explained_variance_ratio_ * 100}\n",
    ")\n",
    "\n",
    "cumulative_explained_variance_df = pd.DataFrame(\n",
    "    {'Principal Component': [f'PC{i+1}' for i in range(len(skillset_cols))],\n",
    "     'Cumulative Explained Variance Ratio (%)': pca_full.explained_variance_ratio_.cumsum() * 100}\n",
    ")\n",
    "\n",
    "loadings_df = pd.DataFrame(\n",
    "    pca_full.components_.T,\n",
    "    columns=[f'PC{i+1}' for i in range(len(skillset_cols))],\n",
    "    index=skillset_cols\n",
    ")\n",
    "\n",
    "pca = PCA(n_components=1)\n",
    "principal_component = pca.fit_transform(X_scaled)\n",
    "\n",
    "df['SkillsetIndex'] = principal_component[:, 0]\n",
    "df['SkillsetIndex'] = (df['SkillsetIndex'] - df['SkillsetIndex'].mean()) / df['SkillsetIndex'].std()\n",
    "\n",
    "median_value = df['SkillsetIndex'].median()\n",
    "df['SkillsetGeneralistDummy'] = (df['SkillsetIndex'] > median_value).astype(int)"
   ]
  },
  {
   "cell_type": "code",
   "execution_count": null,
   "id": "17c8d66a",
   "metadata": {},
   "outputs": [],
   "source": [
    "eigenvalues_df "
   ]
  },
  {
   "cell_type": "code",
   "execution_count": null,
   "id": "88bd31ed",
   "metadata": {},
   "outputs": [],
   "source": [
    "explained_variance_ratio_df"
   ]
  },
  {
   "cell_type": "code",
   "execution_count": null,
   "id": "2873ade2",
   "metadata": {
    "scrolled": true
   },
   "outputs": [],
   "source": [
    "cumulative_explained_variance_df"
   ]
  },
  {
   "cell_type": "code",
   "execution_count": null,
   "id": "ec1665ab",
   "metadata": {},
   "outputs": [],
   "source": [
    "factor_scores = pd.DataFrame(\n",
    "    X_pca_full,\n",
    "    columns=[f'PC{i+1}' for i in range(X_pca_full.shape[1])],\n",
    "    index=df.index \n",
    ")\n",
    "\n",
    "df['PC1_FactorScore'] = factor_scores['PC1']\n"
   ]
  },
  {
   "cell_type": "code",
   "execution_count": null,
   "id": "d70079fd",
   "metadata": {},
   "outputs": [],
   "source": [
    "df['PC1_FactorScore'].to_csv(\"Factor_score.csv\")"
   ]
  },
  {
   "cell_type": "code",
   "execution_count": null,
   "id": "9575e48d",
   "metadata": {},
   "outputs": [],
   "source": [
    "df['PC1_FactorScore']"
   ]
  },
  {
   "cell_type": "code",
   "execution_count": null,
   "id": "5d969586",
   "metadata": {},
   "outputs": [],
   "source": [
    "df.count()"
   ]
  },
  {
   "cell_type": "code",
   "execution_count": null,
   "id": "34e2e5d7",
   "metadata": {},
   "outputs": [],
   "source": [
    "df['PC1_FactorScore'].describe()\n"
   ]
  },
  {
   "cell_type": "code",
   "execution_count": null,
   "id": "b70ef49b",
   "metadata": {},
   "outputs": [],
   "source": [
    "df.describe()"
   ]
  },
  {
   "cell_type": "code",
   "execution_count": null,
   "id": "8e3cdbd0",
   "metadata": {},
   "outputs": [],
   "source": [
    "df"
   ]
  },
  {
   "cell_type": "code",
   "execution_count": null,
   "id": "d4062579",
   "metadata": {},
   "outputs": [],
   "source": [
    "df['PC1_FactorScore'].mean()\n",
    "\n"
   ]
  },
  {
   "cell_type": "code",
   "execution_count": null,
   "id": "e7bf2746",
   "metadata": {},
   "outputs": [],
   "source": [
    "df['PC1_FactorScore'].std()"
   ]
  },
  {
   "cell_type": "code",
   "execution_count": null,
   "id": "26da444f",
   "metadata": {},
   "outputs": [],
   "source": [
    "df['PC1_FactorScore_Standardised'] = (\n",
    "    df['PC1_FactorScore'] - df['PC1_FactorScore'].mean()\n",
    ") / df['PC1_FactorScore'].std()\n"
   ]
  },
  {
   "cell_type": "code",
   "execution_count": null,
   "id": "18583e5c",
   "metadata": {},
   "outputs": [],
   "source": [
    "df['PC1_FactorScore_Standardised'].mean()\n",
    "df['PC1_FactorScore_Standardised'].std()\n"
   ]
  },
  {
   "cell_type": "code",
   "execution_count": null,
   "id": "59408671",
   "metadata": {},
   "outputs": [],
   "source": [
    "df"
   ]
  },
  {
   "cell_type": "code",
   "execution_count": null,
   "id": "fa2b077a",
   "metadata": {},
   "outputs": [],
   "source": [
    "df['PC1_FactorScore_Standardised'].describe()"
   ]
  },
  {
   "cell_type": "code",
   "execution_count": null,
   "id": "a8acc84c",
   "metadata": {},
   "outputs": [],
   "source": [
    "df['SkillsetIndex'] = (df['SkillsetIndex'] - df['SkillsetIndex'].mean()) / df['SkillsetIndex'].std()\n"
   ]
  },
  {
   "cell_type": "code",
   "execution_count": null,
   "id": "328e3385",
   "metadata": {},
   "outputs": [],
   "source": [
    "df['SkillsetIndex'] "
   ]
  },
  {
   "cell_type": "code",
   "execution_count": null,
   "id": "d2a10b99",
   "metadata": {},
   "outputs": [],
   "source": [
    "print(df.columns.tolist())"
   ]
  },
  {
   "cell_type": "code",
   "execution_count": null,
   "id": "29cc2858",
   "metadata": {},
   "outputs": [],
   "source": [
    "df = df.drop(columns=[\"Unnamed: 0\"])\n"
   ]
  },
  {
   "cell_type": "code",
   "execution_count": null,
   "id": "b3a2f1a2",
   "metadata": {},
   "outputs": [],
   "source": [
    "df.to_csv(\"Main_Director_Complete_Skillsets_PCA.csv\")"
   ]
  },
  {
   "cell_type": "code",
   "execution_count": null,
   "id": "28c69fd8",
   "metadata": {},
   "outputs": [],
   "source": [
    "df.head(20)"
   ]
  },
  {
   "cell_type": "code",
   "execution_count": null,
   "id": "c729de7a",
   "metadata": {},
   "outputs": [],
   "source": [
    "df2 = pd.read_csv(\"Main_Firm_Fin_Loc_with_Absence.csv\")"
   ]
  },
  {
   "cell_type": "code",
   "execution_count": null,
   "id": "728ed141",
   "metadata": {},
   "outputs": [],
   "source": [
    "df2"
   ]
  },
  {
   "cell_type": "code",
   "execution_count": null,
   "id": "a4237933",
   "metadata": {},
   "outputs": [],
   "source": [
    "df2.columns.tolist()"
   ]
  },
  {
   "cell_type": "code",
   "execution_count": null,
   "id": "52d02207",
   "metadata": {},
   "outputs": [],
   "source": [
    "df_avg = df.groupby(['Symbol', 'AsOnDate'])['PC1_FactorScore_Standardised'].mean().reset_index()\n",
    "\n",
    "df_avg.rename(columns={'PC1_FactorScore_Standardised': 'FactorScore_avg'}, inplace=True)\n",
    "\n",
    "df2 = df2.merge(df_avg, on=['Symbol', 'AsOnDate'], how='left')"
   ]
  },
  {
   "cell_type": "code",
   "execution_count": null,
   "id": "95be4c41",
   "metadata": {},
   "outputs": [],
   "source": [
    "df_avg.head(50)"
   ]
  },
  {
   "cell_type": "code",
   "execution_count": null,
   "id": "b76d10fc",
   "metadata": {},
   "outputs": [],
   "source": [
    "df2.head(60)"
   ]
  },
  {
   "cell_type": "code",
   "execution_count": null,
   "id": "cf1789bd",
   "metadata": {},
   "outputs": [],
   "source": [
    "df2['FactorScore_avg'].describe()"
   ]
  },
  {
   "cell_type": "code",
   "execution_count": null,
   "id": "daf18b33",
   "metadata": {},
   "outputs": [],
   "source": [
    "df2.describe()"
   ]
  },
  {
   "cell_type": "code",
   "execution_count": null,
   "id": "74b3e3cb",
   "metadata": {},
   "outputs": [],
   "source": [
    "df_avg['FactorScore_avg'].describe()"
   ]
  },
  {
   "cell_type": "code",
   "execution_count": null,
   "id": "a538c2cb",
   "metadata": {},
   "outputs": [],
   "source": [
    "df2.columns.tolist()"
   ]
  },
  {
   "cell_type": "code",
   "execution_count": null,
   "id": "a3f4c4c7",
   "metadata": {},
   "outputs": [],
   "source": [
    "\n",
    "df2['AsOnYear'] = pd.to_numeric(df2['AsOnYear'], errors='coerce')\n",
    "\n",
    "df2_filtered = df2[df2['AsOnYear'] >= 2015]\n",
    "\n",
    "\n"
   ]
  },
  {
   "cell_type": "code",
   "execution_count": null,
   "id": "c533e09d",
   "metadata": {},
   "outputs": [],
   "source": [
    "df2_filtered"
   ]
  },
  {
   "cell_type": "code",
   "execution_count": null,
   "id": "50b6e6f6",
   "metadata": {},
   "outputs": [],
   "source": [
    "df2_filtered.describe()"
   ]
  },
  {
   "cell_type": "code",
   "execution_count": null,
   "id": "faa415fd",
   "metadata": {},
   "outputs": [],
   "source": [
    "df2_filtered['FactorScore_avg'].describe()"
   ]
  },
  {
   "cell_type": "code",
   "execution_count": null,
   "id": "e79149f1",
   "metadata": {},
   "outputs": [],
   "source": [
    "firm_year_count = df2_filtered[['Company', 'AsOnYear']].drop_duplicates().shape[0]\n",
    "print(\"Unique firm-year combinations:\", firm_year_count)\n"
   ]
  },
  {
   "cell_type": "code",
   "execution_count": null,
   "id": "f7f52488",
   "metadata": {},
   "outputs": [],
   "source": [
    "unique_firm_years = df2_filtered[['Company', 'AsOnYear', 'FactorScore_avg']].drop_duplicates(subset=['Company', 'AsOnYear'])\n",
    "\n",
    "unique_firm_years['FactorScore_avg'].describe()\n",
    "\n"
   ]
  },
  {
   "cell_type": "code",
   "execution_count": null,
   "id": "ec032721",
   "metadata": {},
   "outputs": [],
   "source": []
  }
 ],
 "metadata": {
  "kernelspec": {
   "display_name": "Python 3 (ipykernel)",
   "language": "python",
   "name": "python3"
  },
  "language_info": {
   "codemirror_mode": {
    "name": "ipython",
    "version": 3
   },
   "file_extension": ".py",
   "mimetype": "text/x-python",
   "name": "python",
   "nbconvert_exporter": "python",
   "pygments_lexer": "ipython3",
   "version": "3.11.7"
  }
 },
 "nbformat": 4,
 "nbformat_minor": 5
}
