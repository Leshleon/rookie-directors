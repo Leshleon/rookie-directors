{
 "cells": [
  {
   "cell_type": "code",
   "execution_count": null,
   "id": "122bb5ab",
   "metadata": {},
   "outputs": [],
   "source": [
    "import pandas as pd\n",
    "for year in range(2014, 2025):\n",
    "    file_path = f'Indian Boards Data as on 31-Mar-{year}.xlsx'  \n",
    "    try:\n",
    "        df = pd.read_excel(file_path, sheet_name='Board Meetings Attendance', header=1)\n",
    "        \n",
    "        if 'No. of Meetings held during the tenure of the Director' in df.columns and \\\n",
    "           'No. of Meetings Attended' in df.columns:\n",
    "            \n",
    "            def calculate_absence(row):\n",
    "                if row['No. of Meetings held during the tenure of the Director'] == \"N.A\" or row['No. of Meetings Attended'] == \"N.A\":\n",
    "                    return \"N.A\"\n",
    "                held = row['No. of Meetings held during the tenure of the Director']\n",
    "                attended = row['No. of Meetings Attended']\n",
    "                if held == 0:\n",
    "                    return 0\n",
    "                if attended > held:\n",
    "                    return 0\n",
    "                return ((held - attended) / held) * 100\n",
    "\n",
    "            df['Meetings absent (%)'] = df.apply(calculate_absence, axis=1)\n",
    "            \n",
    "            output_file_path = f'Indian Boards Data as on 31-Mar-{year} meetings%.xlsx'\n",
    "            df.to_excel(output_file_path, index=False)\n",
    "            print(f\"File saved for {year} at {output_file_path}\")\n",
    "        else:\n",
    "            print(f\"Missing necessary columns in {file_path} for {year}\")\n",
    "    \n",
    "    except Exception as e:\n",
    "        print(f\"Error reading or processing file {file_path}: {e}\")\n"
   ]
  },
  {
   "cell_type": "code",
   "execution_count": null,
   "id": "951529c2",
   "metadata": {},
   "outputs": [],
   "source": [
    "import pandas as pd\n",
    "for year in range(2014, 2025):\n",
    "    file_path = f'Indian Boards Data as on 31-Mar-{year}.xlsx'\n",
    "    \n",
    "    try:\n",
    "        df = pd.read_excel(file_path, sheet_name='Board Meetings Attendance', header=1)\n",
    "        df['Meetings absent (%)'] = pd.to_numeric(df['Meetings absent (%)'], errors='coerce')\n",
    "        df = df.dropna(subset=['Meetings absent (%)'])\n",
    "        average_absence = df.groupby(['Symbol', 'AsOnDate'])['Meetings absent (%)'].mean().reset_index()\n",
    "        average_absence.rename(columns={'Meetings absent (%)': 'Average Absence (%)'}, inplace=True)\n",
    "\n",
    "        output_file = f'{year} avg meetings absent %.xlsx'\n",
    "\n",
    "        average_absence.to_excel(output_file, index=False)\n",
    "        print(f\"File saved for {year} at {output_file}\")\n",
    "    \n",
    "    except Exception as e:\n",
    "        print(f\"Error processing file {file_path}: {e}\")\n"
   ]
  }
 ],
 "metadata": {
  "kernelspec": {
   "display_name": "Python 3 (ipykernel)",
   "language": "python",
   "name": "python3"
  },
  "language_info": {
   "codemirror_mode": {
    "name": "ipython",
    "version": 3
   },
   "file_extension": ".py",
   "mimetype": "text/x-python",
   "name": "python",
   "nbconvert_exporter": "python",
   "pygments_lexer": "ipython3",
   "version": "3.11.7"
  }
 },
 "nbformat": 4,
 "nbformat_minor": 5
}
