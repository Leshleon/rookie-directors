{
 "cells": [
  {
   "cell_type": "code",
   "execution_count": 1,
   "id": "6aacad2f-f2df-42ef-ab01-e9b2c7e47624",
   "metadata": {},
   "outputs": [],
   "source": [
    "import pandas as pd\n",
    "import numpy as np\n",
    "import scipy as sp\n",
    "from tqdm import tqdm\n",
    "tqdm.pandas()\n",
    "from dateutil.relativedelta import relativedelta\n",
    "pd.set_option(\"display.max_columns\", None)"
   ]
  },
  {
   "cell_type": "code",
   "execution_count": 2,
   "id": "11dac36b-6ec9-404b-97eb-3c875ee1d922",
   "metadata": {},
   "outputs": [],
   "source": [
    "input_folder = \"board_data\"\n",
    "output_folder = \"director_merge_output\""
   ]
  },
  {
   "cell_type": "markdown",
   "id": "666f1f4e-cf1e-4596-9c10-298d35743ab4",
   "metadata": {},
   "source": [
    "## Helper Functions"
   ]
  },
  {
   "cell_type": "code",
   "execution_count": 3,
   "id": "1a1437bb-8809-4873-8316-3305686fe34e",
   "metadata": {},
   "outputs": [],
   "source": [
    "# Reading Individual Years Data files and skipping 1 row. Table starts from row = 1, with header at row = 1\n",
    "# This also inserts AsOnDate column and fills with the date from the file name\n",
    "\n",
    "def read_data(sheet_name: str) -> pd.DataFrame:\n",
    "    dfs = []\n",
    "    for i,year in enumerate(range(2006, 2025)):\n",
    "        file_path = rf\"{input_folder}\\Indian Boards Data as on 31-Mar-{year}.xlsx\"\n",
    "        try:\n",
    "            df = pd.read_excel(file_path, sheet_name = sheet_name, skiprows = 1)\n",
    "            df.insert(2, column = \"AsOnDate\", value = pd.to_datetime(f\"{year}-03-31\", format = \"%Y-%m-%d\"))\n",
    "            df.set_index([\"Symbol\", \"Company\", \"AsOnDate\"], inplace = True)\n",
    "            dfs.append(df)\n",
    "\n",
    "        except ValueError:\n",
    "            print(f\"No {sheet_name} data found for year {year} in the file. Skipping...\")\n",
    "        except FileNotFoundError:\n",
    "            print(f\"No file found for year {year}. Skipping...\")\n",
    "        except Exception as e:\n",
    "            print(f\"Unexpected error with file year {year}: {e}\")\n",
    "\n",
    "    if dfs:\n",
    "        merged = pd.concat(dfs, axis=0).reset_index().sort_values([\"Company\", \"AsOnDate\"]).reset_index(drop = True)\n",
    "        return merged\n",
    "\n",
    "    else:\n",
    "        print(\"No data files found using this sheet name...\")\n",
    "        return pd.DataFrame()"
   ]
  },
  {
   "cell_type": "markdown",
   "id": "357bafa2-dfcb-4749-bcb2-388ec7fc8e64",
   "metadata": {},
   "source": [
    "## Individual Director Data Only"
   ]
  },
  {
   "cell_type": "code",
   "execution_count": 4,
   "id": "6028a482-c726-4213-a0f1-913256ccc39b",
   "metadata": {},
   "outputs": [],
   "source": [
    "main_direct = read_data(\"Master Profile\")"
   ]
  },
  {
   "cell_type": "code",
   "execution_count": 5,
   "id": "d87edcd8-e86b-44b8-8fba-f2367eacc0ec",
   "metadata": {},
   "outputs": [
    {
     "data": {
      "text/plain": [
       "446909"
      ]
     },
     "execution_count": 5,
     "metadata": {},
     "output_type": "execute_result"
    }
   ],
   "source": [
    "len(main_direct)"
   ]
  },
  {
   "cell_type": "code",
   "execution_count": 6,
   "id": "a28df446-2c06-467f-90e3-bf579b7f4b85",
   "metadata": {},
   "outputs": [],
   "source": [
    "main_direct.to_pickle(rf\"{output_folder}\\Main_Director_incl Cess.pkl\")"
   ]
  },
  {
   "cell_type": "code",
   "execution_count": null,
   "id": "422f8c62-1858-4c8a-b304-554383cf6a9f",
   "metadata": {},
   "outputs": [],
   "source": []
  },
  {
   "cell_type": "markdown",
   "id": "26531d26-2c43-4891-aa13-58b92a71fe63",
   "metadata": {},
   "source": [
    "## Committees Data Only"
   ]
  },
  {
   "cell_type": "code",
   "execution_count": 7,
   "id": "4c404203-2aee-4a98-94eb-88dbfd387c96",
   "metadata": {},
   "outputs": [
    {
     "name": "stdout",
     "output_type": "stream",
     "text": [
      "No Committee Details data found for year 2006 in the file. Skipping...\n",
      "No Committee Details data found for year 2007 in the file. Skipping...\n",
      "No Committee Details data found for year 2008 in the file. Skipping...\n",
      "No Committee Details data found for year 2009 in the file. Skipping...\n",
      "No Committee Details data found for year 2010 in the file. Skipping...\n",
      "No Committee Details data found for year 2011 in the file. Skipping...\n",
      "No Committee Details data found for year 2012 in the file. Skipping...\n",
      "No Committee Details data found for year 2013 in the file. Skipping...\n",
      "No Committee Details data found for year 2014 in the file. Skipping...\n",
      "No Committee Details data found for year 2015 in the file. Skipping...\n"
     ]
    }
   ],
   "source": [
    "main_comm = read_data(\"Committee Details\")"
   ]
  },
  {
   "cell_type": "code",
   "execution_count": 8,
   "id": "1728235b-5dda-406a-bb4a-4ef23ea0bda4",
   "metadata": {},
   "outputs": [
    {
     "data": {
      "text/plain": [
       "267668"
      ]
     },
     "execution_count": 8,
     "metadata": {},
     "output_type": "execute_result"
    }
   ],
   "source": [
    "len(main_comm)"
   ]
  },
  {
   "cell_type": "code",
   "execution_count": 9,
   "id": "cacc6662-27db-4c20-a254-725a7e0b3af7",
   "metadata": {},
   "outputs": [],
   "source": [
    "main_comm.to_pickle(rf\"{output_folder}\\Main_Committees_incl Cess.pkl\")"
   ]
  },
  {
   "cell_type": "code",
   "execution_count": null,
   "id": "5ff2bca9-095e-4edb-abc8-70ef99febb54",
   "metadata": {},
   "outputs": [],
   "source": []
  },
  {
   "cell_type": "markdown",
   "id": "a63f2e6d-755b-40fb-898e-0a75d4ba6114",
   "metadata": {},
   "source": [
    "## Board Attendance Data Only"
   ]
  },
  {
   "cell_type": "code",
   "execution_count": 10,
   "id": "e76a81ed-93e3-4b27-aa34-b736960ca0d6",
   "metadata": {},
   "outputs": [
    {
     "name": "stdout",
     "output_type": "stream",
     "text": [
      "No Board Meetings Attendance data found for year 2006 in the file. Skipping...\n",
      "No Board Meetings Attendance data found for year 2007 in the file. Skipping...\n",
      "No Board Meetings Attendance data found for year 2008 in the file. Skipping...\n",
      "No Board Meetings Attendance data found for year 2009 in the file. Skipping...\n",
      "No Board Meetings Attendance data found for year 2010 in the file. Skipping...\n",
      "No Board Meetings Attendance data found for year 2011 in the file. Skipping...\n",
      "No Board Meetings Attendance data found for year 2012 in the file. Skipping...\n",
      "No Board Meetings Attendance data found for year 2013 in the file. Skipping...\n",
      "No Board Meetings Attendance data found for year 2014 in the file. Skipping...\n"
     ]
    }
   ],
   "source": [
    "main_board = read_data(\"Board Meetings Attendance\")"
   ]
  },
  {
   "cell_type": "code",
   "execution_count": 11,
   "id": "a5b0a9bb-23a4-4c2e-b0ca-747e06867be7",
   "metadata": {},
   "outputs": [
    {
     "data": {
      "text/plain": [
       "150650"
      ]
     },
     "execution_count": 11,
     "metadata": {},
     "output_type": "execute_result"
    }
   ],
   "source": [
    "len(main_board)"
   ]
  },
  {
   "cell_type": "code",
   "execution_count": 12,
   "id": "1cfe5108-e6bd-4d20-b105-a1c3f5e3d2bc",
   "metadata": {},
   "outputs": [],
   "source": [
    "main_board.to_pickle(rf\"{output_folder}\\Main_Board Attendance_incl Cess.pkl\")"
   ]
  },
  {
   "cell_type": "code",
   "execution_count": null,
   "id": "6430d3c6-2e29-4da2-8e40-8396066dfb60",
   "metadata": {},
   "outputs": [],
   "source": []
  },
  {
   "cell_type": "code",
   "execution_count": null,
   "id": "033b9fff-b402-46a6-ae76-58a6dded6b79",
   "metadata": {},
   "outputs": [],
   "source": []
  }
 ],
 "metadata": {
  "kernelspec": {
   "display_name": "Python 3 (ipykernel)",
   "language": "python",
   "name": "python3"
  },
  "language_info": {
   "codemirror_mode": {
    "name": "ipython",
    "version": 3
   },
   "file_extension": ".py",
   "mimetype": "text/x-python",
   "name": "python",
   "nbconvert_exporter": "python",
   "pygments_lexer": "ipython3",
   "version": "3.11.7"
  }
 },
 "nbformat": 4,
 "nbformat_minor": 5
}
