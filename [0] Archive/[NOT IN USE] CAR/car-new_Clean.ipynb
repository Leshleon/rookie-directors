{
 "cells": [
  {
   "cell_type": "code",
   "execution_count": null,
   "id": "7b9612e6-0b44-4a72-801e-af6c394ffb3c",
   "metadata": {},
   "outputs": [],
   "source": [
    "import logging\n",
    "from pandas import Dataframe\n",
    "logging.getLogger().setLevel(logging.ERROR)\n",
    "import pandas as pd\n",
    "from datetime import datetime\n",
    "import os\n",
    "import glob\n",
    "import swifter\n",
    "import eventstudy as es\n",
    "import numpy as np\n",
    "import time\n",
    "from datetime import timedelta"
   ]
  },
  {
   "cell_type": "code",
   "execution_count": null,
   "id": "15813221-016d-4e53-8a1d-b3ba41825f56",
   "metadata": {},
   "outputs": [],
   "source": [
    "dataFolder = \"data/\";\n",
    "print(datetime.now().strftime(\"Start Time: %d/%m/%Y %H:%M:%S\"))\n",
    "print(\"Loading Data Frames...\")\n",
    "\n",
    "dfMaster = pd.read_csv()\n",
    "dfMaster[\"AsOnDate\"} = pd.to_datetime(dfMaster[\"AsOnDate\"], format = \"%Y-%m-%d\")\n",
    "dfMaster[\"Appontment Date\"} = pd.to_datetime(dfMaster[\"Appontment Date\"], format = \"%Y-%m-%d\")\n",
    "\n",
    "dfPrices = pd.read_csv()\n",
    "dfPrices[\"Date\"] = pd.to_datetime(dfPrices[\"Date\"], format = \"%Y-%m-%d\")\n",
    "\n",
    "print(\"Loaded Data Frames.\")\n",
    "print(datetime.now().strftime(\"End Time: %d/%m/%Y %H:%M:%S\"))\n",
    "print(\"Completed...\")\n",
    "\n",
    "dfPrices[\"CompanyName\"] = dfPrices[\"CompanyName\"].str.lower()\n",
    "dfPrices[\"Symbol\"] = dfPrices[\"Symbol\"].str.lower()\n",
    "dfMaster[\"Company\"] = dfMaster[\"Company\"].str.lower()\n",
    "dfMaster[\"CompanyName\"] = dfMaster[\"CompanyName\"].str.lower()"
   ]
  },
  {
   "cell_type": "code",
   "execution_count": null,
   "id": "fcb2594e-9c11-4ff7-ba7f-f8ea31b1af45",
   "metadata": {},
   "outputs": [],
   "source": [
    "dfMaster.head(5)"
   ]
  },
  {
   "cell_type": "code",
   "execution_count": null,
   "id": "7a95e6f5-45bc-4229-9efc-ef8c1bfc13cc",
   "metadata": {},
   "outputs": [],
   "source": [
    "print(datetime.now().strftime(\"Start Time: %d/%m/%Y %H:%M:%S\"))\n",
    "print(\"Loading Data Frames...\")\n",
    "\n",
    "dfMarketReturns = pd.read_csv(\n",
    "\n",
    "print(\"Loaded Data Frames.\")\n",
    "print(datetime.now().strftime(\"End Time: %d/%m/%Y %H:%M:%S\"))\n",
    "print(\"Completed...\")\n",
    "\n",
    "dfMarketReturns[\"Date\"] = pd.to_datetime(dfMarketReturns[\"Date\"], format = \"%Y-%m-%d\")\n"
   ]
  },
  {
   "cell_type": "code",
   "execution_count": null,
   "id": "d0d5640a-07cf-4be4-a8e0-3406696d68b6",
   "metadata": {},
   "outputs": [],
   "source": []
  },
  {
   "cell_type": "code",
   "execution_count": null,
   "id": "cb9340ea-95e1-4472-ad35-6953b7c73b70",
   "metadata": {},
   "outputs": [],
   "source": []
  },
  {
   "cell_type": "code",
   "execution_count": null,
   "id": "d9b28df2-d067-4657-8636-eec86ac17636",
   "metadata": {},
   "outputs": [],
   "source": []
  },
  {
   "cell_type": "code",
   "execution_count": null,
   "id": "4d3ab217-41b3-4ee5-9dcc-042c94aed41c",
   "metadata": {},
   "outputs": [],
   "source": []
  },
  {
   "cell_type": "code",
   "execution_count": null,
   "id": "e4354c74-f07d-4443-998b-73bfbed7480e",
   "metadata": {},
   "outputs": [],
   "source": []
  },
  {
   "cell_type": "code",
   "execution_count": null,
   "id": "2b3e46cc-3159-4ab2-bbd6-6344eb39b653",
   "metadata": {},
   "outputs": [],
   "source": []
  },
  {
   "cell_type": "code",
   "execution_count": null,
   "id": "be537464-fc96-4e00-a48b-299aa585f1b9",
   "metadata": {},
   "outputs": [],
   "source": []
  },
  {
   "cell_type": "code",
   "execution_count": null,
   "id": "6452cfc0-fd82-4e46-a55e-9d7056650789",
   "metadata": {},
   "outputs": [],
   "source": []
  },
  {
   "cell_type": "code",
   "execution_count": null,
   "id": "042f339e-1e51-4c86-9bea-465a93bc8930",
   "metadata": {},
   "outputs": [],
   "source": []
  },
  {
   "cell_type": "code",
   "execution_count": null,
   "id": "b2664e6f-dea3-49b4-9405-5bed798c12dc",
   "metadata": {},
   "outputs": [],
   "source": []
  },
  {
   "cell_type": "code",
   "execution_count": null,
   "id": "0a3cb8ca-948d-486e-befb-419586b49f27",
   "metadata": {},
   "outputs": [],
   "source": []
  }
 ],
 "metadata": {
  "kernelspec": {
   "display_name": "Python 3 (ipykernel)",
   "language": "python",
   "name": "python3"
  },
  "language_info": {
   "codemirror_mode": {
    "name": "ipython",
    "version": 3
   },
   "file_extension": ".py",
   "mimetype": "text/x-python",
   "name": "python",
   "nbconvert_exporter": "python",
   "pygments_lexer": "ipython3",
   "version": "3.11.7"
  }
 },
 "nbformat": 4,
 "nbformat_minor": 5
}
